{
 "cells": [
  {
   "cell_type": "code",
   "id": "45a2c33d-c67f-493c-a65a-660af30aa781",
   "metadata": {
    "ExecuteTime": {
     "end_time": "2024-05-28T22:03:49.651320Z",
     "start_time": "2024-05-28T22:03:49.647587Z"
    }
   },
   "source": [
    "import pandas as pd\n",
    "import os\n",
    "import matplotlib.pyplot as plt\n",
    "import seaborn as sns"
   ],
   "outputs": [],
   "execution_count": 503
  },
  {
   "cell_type": "code",
   "id": "fc439ed6-948c-4af4-969c-e9650348eee5",
   "metadata": {
    "ExecuteTime": {
     "end_time": "2024-05-28T22:03:49.874159Z",
     "start_time": "2024-05-28T22:03:49.871149Z"
    }
   },
   "source": [
    "# Odczytaj plik 2017_jun_final.csv przy użyciu metody read_csv."
   ],
   "outputs": [],
   "execution_count": 504
  },
  {
   "cell_type": "code",
   "id": "fce20d35-0cf1-439d-b08a-bd26e4c70a59",
   "metadata": {
    "ExecuteTime": {
     "end_time": "2024-05-28T22:03:50.989555Z",
     "start_time": "2024-05-28T22:03:49.914367Z"
    }
   },
   "source": [
    "url_gd_poll = 'https://drive.google.com/uc?export=download&id=1bQvtiXzLnoZWNH2Qi9-rHUuxz0hELf_1'\n",
    "poll_table = pd.read_csv(url_gd_poll, index_col=0)"
   ],
   "outputs": [],
   "execution_count": 505
  },
  {
   "cell_type": "code",
   "id": "eb873789-a27c-44d4-8d4d-96908b39755b",
   "metadata": {
    "ExecuteTime": {
     "end_time": "2024-05-28T22:03:50.997850Z",
     "start_time": "2024-05-28T22:03:50.993551Z"
    }
   },
   "source": [
    "# Odczytaj tabelę wynikową przy użyciu metody head."
   ],
   "outputs": [],
   "execution_count": 506
  },
  {
   "cell_type": "code",
   "id": "4433693d-b392-4abb-8564-134276645503",
   "metadata": {
    "scrolled": true,
    "ExecuteTime": {
     "end_time": "2024-05-28T22:03:51.017734Z",
     "start_time": "2024-05-28T22:03:50.999849Z"
    }
   },
   "source": [
    "print(f'Poll Table:\\n{poll_table.head()}')"
   ],
   "outputs": [
    {
     "name": "stdout",
     "output_type": "stream",
     "text": [
      "Poll Table:\n",
      "                       Role Programming language Specialisation   \\\n",
      "N                                                                  \n",
      "1        Junior QA engineer                  NaN       Manual QA   \n",
      "2        Junior QA engineer                  NaN       Manual QA   \n",
      "3         Software Engineer              C#/.NET             NaN   \n",
      "4         Software Engineer           JavaScript             NaN   \n",
      "5  Senior Software Engineer           JavaScript             NaN   \n",
      "\n",
      "         Experience  Experience on current job  Salary/month  \\\n",
      "N                                                              \n",
      "1                0.5                       0.5           400   \n",
      "2  loss then 3 month         loss then 3 month           430   \n",
      "3                  4                         1          2500   \n",
      "4                  5                         4          2000   \n",
      "5               10+                        0.5          4500   \n",
      "\n",
      "   Изменение.зарплаты.за.12.месяцев       City              Company size  \\\n",
      "N                                                                          \n",
      "1                                 0  New York         up to 10 employees   \n",
      "2                               130  New York   more then 1000 employees   \n",
      "3                               800     Berlin      up to 1000 employees   \n",
      "4                               400      Odesa       up to 200 employees   \n",
      "5                               500      Other        up to 10 employees   \n",
      "\n",
      "  Company type  ... Still student  English   \\\n",
      "N               ...                           \n",
      "1  Outsourcing  ...          True        A1   \n",
      "2  Outsourcing  ...          True        B2   \n",
      "3  Outsourcing  ...         False        B1   \n",
      "4      product  ...         False        A1   \n",
      "5      product  ...         False        B1   \n",
      "\n",
      "                           Subject.area                 Date  \\\n",
      "N                                                              \n",
      "1                         iOS,eCommerce  12/06/2017 12:38:08   \n",
      "2                       Web development  12/06/2017 12:42:51   \n",
      "3   Web development,Corporative systems  12/06/2017 13:02:47   \n",
      "4  Desktop Applications,Web development  12/06/2017 13:03:01   \n",
      "5  Desktop Applications,Web development  12/06/2017 13:03:47   \n",
      "\n",
      "                                          User.Agent   exp current_job_exp  \\\n",
      "N                                                                            \n",
      "1  Mozilla/5.0 (Windows NT 10.0; Win64; x64) Appl...   0.5             0.5   \n",
      "2  Mozilla/5.0 (iPad; CPU OS 10_2_1 like Mac OS X...   0.0             0.0   \n",
      "3  Mozilla/5.0 (Windows NT 10.0; Win64; x64) Appl...   4.0             1.0   \n",
      "4  Mozilla/5.0 (Windows NT 6.1; Win64; x64) Apple...   5.0             4.0   \n",
      "5  Mozilla/5.0 (iPhone; CPU iPhone OS 10_3_2 like...  10.0             0.5   \n",
      "\n",
      "  salary Валюта  cls  \n",
      "N                     \n",
      "1    400    NaN   QA  \n",
      "2    430    NaN   QA  \n",
      "3   2500    NaN  DEV  \n",
      "4   2000    NaN  DEV  \n",
      "5   4500    NaN  DEV  \n",
      "\n",
      "[5 rows x 24 columns]\n"
     ]
    }
   ],
   "execution_count": 507
  },
  {
   "cell_type": "code",
   "id": "8e8944e1-234d-4504-93c1-4d7a09a6503d",
   "metadata": {
    "ExecuteTime": {
     "end_time": "2024-05-28T22:03:51.024124Z",
     "start_time": "2024-05-28T22:03:51.020730Z"
    }
   },
   "source": [
    "# Zdefiniuj rozmiar tabeli przy użyciu metody shape."
   ],
   "outputs": [],
   "execution_count": 508
  },
  {
   "cell_type": "code",
   "id": "71435c1a-33d8-40c3-b283-74c77c0b2218",
   "metadata": {
    "ExecuteTime": {
     "end_time": "2024-05-28T22:03:51.031600Z",
     "start_time": "2024-05-28T22:03:51.026123Z"
    }
   },
   "source": [
    "num_rows, num_columns = poll_table.shape\n",
    "print(f'Rows: {num_rows}')\n",
    "print(f'Columns: {num_columns}')"
   ],
   "outputs": [
    {
     "name": "stdout",
     "output_type": "stream",
     "text": [
      "Rows: 8704\n",
      "Columns: 24\n"
     ]
    }
   ],
   "execution_count": 509
  },
  {
   "cell_type": "code",
   "id": "6701ecf7-1671-405a-8c34-546ba7849fc5",
   "metadata": {
    "ExecuteTime": {
     "end_time": "2024-05-28T22:03:51.038096Z",
     "start_time": "2024-05-28T22:03:51.033599Z"
    }
   },
   "source": [
    "# Zdefiniuj typy wszystkich kolumn za pomocą metody dataframe.dtypes."
   ],
   "outputs": [],
   "execution_count": 510
  },
  {
   "cell_type": "code",
   "id": "1af0506f-0943-4e00-8b34-e287098b1304",
   "metadata": {
    "ExecuteTime": {
     "end_time": "2024-05-28T22:03:51.046139Z",
     "start_time": "2024-05-28T22:03:51.039100Z"
    }
   },
   "source": [
    "print(f'Data types:\\n{poll_table.dtypes}\\n')"
   ],
   "outputs": [
    {
     "name": "stdout",
     "output_type": "stream",
     "text": [
      "Data types:\n",
      "Role                                 object\n",
      "Programming language                 object\n",
      "Specialisation                       object\n",
      "Experience                           object\n",
      "Experience on current job            object\n",
      "Salary/month                          int64\n",
      "Изменение.зарплаты.за.12.месяцев      int64\n",
      "City                                 object\n",
      "Company size                         object\n",
      "Company type                         object\n",
      "Gender                               object\n",
      "Age                                   int64\n",
      "Education                            object\n",
      "University                           object\n",
      "Still student                          bool\n",
      "English                              object\n",
      "Subject.area                         object\n",
      "Date                                 object\n",
      "User.Agent                           object\n",
      "exp                                 float64\n",
      "current_job_exp                     float64\n",
      "salary                                int64\n",
      "Валюта                               object\n",
      "cls                                  object\n",
      "dtype: object\n",
      "\n"
     ]
    }
   ],
   "execution_count": 511
  },
  {
   "cell_type": "code",
   "id": "c866fe93-ca46-4920-894d-591c91fdf3ee",
   "metadata": {
    "ExecuteTime": {
     "end_time": "2024-05-28T22:03:51.051698Z",
     "start_time": "2024-05-28T22:03:51.047140Z"
    }
   },
   "source": [
    "# Oblicz proporcję spacji w każdej kolumnie (użyj metod isnull i sum)."
   ],
   "outputs": [],
   "execution_count": 512
  },
  {
   "cell_type": "code",
   "id": "3446376a-889d-42de-a325-5e52c2b94768",
   "metadata": {
    "ExecuteTime": {
     "end_time": "2024-05-28T22:03:51.063902Z",
     "start_time": "2024-05-28T22:03:51.052699Z"
    }
   },
   "source": [
    "missing_values_count = poll_table.isnull().sum()\n",
    "\n",
    "print(f'Missing values in each column:\\n{missing_values_count}\\n')"
   ],
   "outputs": [
    {
     "name": "stdout",
     "output_type": "stream",
     "text": [
      "Missing values in each column:\n",
      "Role                                   0\n",
      "Programming language                3850\n",
      "Specialisation                      7219\n",
      "Experience                             0\n",
      "Experience on current job              0\n",
      "Salary/month                           0\n",
      "Изменение.зарплаты.за.12.месяцев       0\n",
      "City                                   0\n",
      "Company size                           0\n",
      "Company type                           0\n",
      "Gender                                 0\n",
      "Age                                    0\n",
      "Education                              0\n",
      "University                          1546\n",
      "Still student                          0\n",
      "English                                0\n",
      "Subject.area                         223\n",
      "Date                                   0\n",
      "User.Agent                             0\n",
      "exp                                    0\n",
      "current_job_exp                        0\n",
      "salary                                 0\n",
      "Валюта                              8694\n",
      "cls                                 1574\n",
      "dtype: int64\n",
      "\n"
     ]
    }
   ],
   "execution_count": 513
  },
  {
   "metadata": {
    "ExecuteTime": {
     "end_time": "2024-05-28T22:03:51.069820Z",
     "start_time": "2024-05-28T22:03:51.066897Z"
    }
   },
   "cell_type": "code",
   "source": "# Usuń wszystkie kolumny ze spacjami z wyjątkiem kolumny \"Język programowania\".",
   "id": "43eb80a20dcb596d",
   "outputs": [],
   "execution_count": 514
  },
  {
   "metadata": {
    "ExecuteTime": {
     "end_time": "2024-05-28T22:03:51.153522Z",
     "start_time": "2024-05-28T22:03:51.070820Z"
    }
   },
   "cell_type": "code",
   "source": [
    "column_to_hold = 'Programming language'\n",
    "columns_with_spaces = [\n",
    "    col for col in poll_table.columns \n",
    "    if poll_table[col].apply(lambda x: str(x).isspace() or str(x) == '').all()\n",
    "]\n",
    "columns_to_drop = [col for col in columns_with_spaces if col != column_to_hold]\n",
    "\n",
    "poll_table = poll_table.drop(columns=columns_to_drop)\n",
    "print(f'{poll_table}')"
   ],
   "id": "4c6945f674b2a9c3",
   "outputs": [
    {
     "name": "stdout",
     "output_type": "stream",
     "text": [
      "                          Role Programming language Specialisation   \\\n",
      "N                                                                     \n",
      "1           Junior QA engineer                  NaN       Manual QA   \n",
      "2           Junior QA engineer                  NaN       Manual QA   \n",
      "3            Software Engineer              C#/.NET             NaN   \n",
      "4            Software Engineer           JavaScript             NaN   \n",
      "5     Senior Software Engineer           JavaScript             NaN   \n",
      "...                        ...                  ...             ...   \n",
      "8700               QA engineer                  NaN       Manual QA   \n",
      "8701                 Marketing                  NaN             NaN   \n",
      "8702  Junior Software Engineer           Ruby/Rails             NaN   \n",
      "8703                 Team lead                  NaN             NaN   \n",
      "8704  Senior Software Engineer                 Java             NaN   \n",
      "\n",
      "            Experience  Experience on current job  Salary/month  \\\n",
      "N                                                                 \n",
      "1                   0.5                       0.5           400   \n",
      "2     loss then 3 month         loss then 3 month           430   \n",
      "3                     4                         1          2500   \n",
      "4                     5                         4          2000   \n",
      "5                  10+                        0.5          4500   \n",
      "...                 ...                       ...           ...   \n",
      "8700                  1         loss then 3 month           700   \n",
      "8701                0.5                       0.5           400   \n",
      "8702                  1                       0.5           800   \n",
      "8703                  6                         4          2600   \n",
      "8704                  7                         2          5000   \n",
      "\n",
      "      Изменение.зарплаты.за.12.месяцев       City              Company size  \\\n",
      "N                                                                             \n",
      "1                                    0  New York         up to 10 employees   \n",
      "2                                  130  New York   more then 1000 employees   \n",
      "3                                  800     Berlin      up to 1000 employees   \n",
      "4                                  400      Odesa       up to 200 employees   \n",
      "5                                  500      Other        up to 10 employees   \n",
      "...                                ...        ...                       ...   \n",
      "8700                               700      Odesa        up to 50 employees   \n",
      "8701                               120     Berlin        up to 50 employees   \n",
      "8702                               500       Rome        up to 10 employees   \n",
      "8703                                 0      Paris  more then 1000 employees   \n",
      "8704                               800      Odesa      up to 1000 employees   \n",
      "\n",
      "     Company type  ... Still student  English   \\\n",
      "N                  ...                           \n",
      "1     Outsourcing  ...          True        A1   \n",
      "2     Outsourcing  ...          True        B2   \n",
      "3     Outsourcing  ...         False        B1   \n",
      "4         product  ...         False        A1   \n",
      "5         product  ...         False        B1   \n",
      "...           ...  ...           ...       ...   \n",
      "8700  Outsourcing  ...         False        B1   \n",
      "8701      product  ...         False        A1   \n",
      "8702  Outstaffing  ...         False        B2   \n",
      "8703  Outsourcing  ...         False        С1   \n",
      "8704      product  ...         False        B2   \n",
      "\n",
      "                              Subject.area                 Date  \\\n",
      "N                                                                 \n",
      "1                            iOS,eCommerce  12/06/2017 12:38:08   \n",
      "2                          Web development  12/06/2017 12:42:51   \n",
      "3      Web development,Corporative systems  12/06/2017 13:02:47   \n",
      "4     Desktop Applications,Web development  12/06/2017 13:03:01   \n",
      "5     Desktop Applications,Web development  12/06/2017 13:03:47   \n",
      "...                                    ...                  ...   \n",
      "8700          Android,Desktop Applications  12/07/2017 15:45:24   \n",
      "8701                             eCommerce  12/07/2017 17:00:06   \n",
      "8702   Web development,Corporative systems  12/07/2017 17:32:26   \n",
      "8703                               Finance  12/07/2017 18:14:59   \n",
      "8704                       Web development  12/07/2017 21:28:57   \n",
      "\n",
      "                                             User.Agent   exp current_job_exp  \\\n",
      "N                                                                               \n",
      "1     Mozilla/5.0 (Windows NT 10.0; Win64; x64) Appl...   0.5             0.5   \n",
      "2     Mozilla/5.0 (iPad; CPU OS 10_2_1 like Mac OS X...   0.0             0.0   \n",
      "3     Mozilla/5.0 (Windows NT 10.0; Win64; x64) Appl...   4.0             1.0   \n",
      "4     Mozilla/5.0 (Windows NT 6.1; Win64; x64) Apple...   5.0             4.0   \n",
      "5     Mozilla/5.0 (iPhone; CPU iPhone OS 10_3_2 like...  10.0             0.5   \n",
      "...                                                 ...   ...             ...   \n",
      "8700  Mozilla/5.0 (X11; Ubuntu; Linux x86_64; rv:54....   1.0             0.0   \n",
      "8701  Mozilla/5.0 (Windows NT 10.0; Win64; x64) Appl...   0.5             0.5   \n",
      "8702  Mozilla/5.0 (X11; Linux x86_64) AppleWebKit/53...   1.0             0.5   \n",
      "8703  Mozilla/5.0 (Windows NT 6.1) AppleWebKit/537.3...   6.0             4.0   \n",
      "8704  Mozilla/5.0 (iPad; CPU OS 10_3_2 like Mac OS X...   7.0             2.0   \n",
      "\n",
      "     salary Валюта  cls  \n",
      "N                        \n",
      "1       400    NaN   QA  \n",
      "2       430    NaN   QA  \n",
      "3      2500    NaN  DEV  \n",
      "4      2000    NaN  DEV  \n",
      "5      4500    NaN  DEV  \n",
      "...     ...    ...  ...  \n",
      "8700    700    NaN   QA  \n",
      "8701    400    NaN  NaN  \n",
      "8702    800    NaN  DEV  \n",
      "8703   2600    NaN   PM  \n",
      "8704   5000    NaN  DEV  \n",
      "\n",
      "[8704 rows x 24 columns]\n"
     ]
    }
   ],
   "execution_count": 515
  },
  {
   "metadata": {
    "ExecuteTime": {
     "end_time": "2024-05-28T22:03:51.157360Z",
     "start_time": "2024-05-28T22:03:51.154521Z"
    }
   },
   "cell_type": "code",
   "source": "# Ponownie policz odsetek pustych miejsc w każdej kolumnie i upewnij się, że pozostała tylko kolumna \"Język programowania\"",
   "id": "26571e8e4a344dde",
   "outputs": [],
   "execution_count": 516
  },
  {
   "metadata": {
    "ExecuteTime": {
     "end_time": "2024-05-28T22:03:51.169426Z",
     "start_time": "2024-05-28T22:03:51.158359Z"
    }
   },
   "cell_type": "code",
   "source": [
    "missing_values_count = poll_table.isnull().sum()\n",
    "\n",
    "print(f'Missing values in each column:\\n{missing_values_count}\\n')"
   ],
   "id": "fa86101cb07e55bb",
   "outputs": [
    {
     "name": "stdout",
     "output_type": "stream",
     "text": [
      "Missing values in each column:\n",
      "Role                                   0\n",
      "Programming language                3850\n",
      "Specialisation                      7219\n",
      "Experience                             0\n",
      "Experience on current job              0\n",
      "Salary/month                           0\n",
      "Изменение.зарплаты.за.12.месяцев       0\n",
      "City                                   0\n",
      "Company size                           0\n",
      "Company type                           0\n",
      "Gender                                 0\n",
      "Age                                    0\n",
      "Education                              0\n",
      "University                          1546\n",
      "Still student                          0\n",
      "English                                0\n",
      "Subject.area                         223\n",
      "Date                                   0\n",
      "User.Agent                             0\n",
      "exp                                    0\n",
      "current_job_exp                        0\n",
      "salary                                 0\n",
      "Валюта                              8694\n",
      "cls                                 1574\n",
      "dtype: int64\n",
      "\n"
     ]
    }
   ],
   "execution_count": 517
  },
  {
   "metadata": {
    "ExecuteTime": {
     "end_time": "2024-05-28T22:03:51.172966Z",
     "start_time": "2024-05-28T22:03:51.170427Z"
    }
   },
   "cell_type": "code",
   "source": "# Usuń wszystkie wiersze z oryginalnej tabeli za pomocą metody dropna.",
   "id": "2115f8c6bab329b6",
   "outputs": [],
   "execution_count": 518
  },
  {
   "metadata": {
    "ExecuteTime": {
     "end_time": "2024-05-28T22:03:51.200152Z",
     "start_time": "2024-05-28T22:03:51.173973Z"
    }
   },
   "cell_type": "code",
   "source": [
    "poll_table = poll_table.dropna(axis=1, thresh=100)\n",
    "missing_values_count = poll_table.isnull().sum()\n",
    "print(f'Missing values in each column:\\n{missing_values_count}\\n')\n",
    "print(f'{poll_table}')"
   ],
   "id": "5612ce876e04f4c0",
   "outputs": [
    {
     "name": "stdout",
     "output_type": "stream",
     "text": [
      "Missing values in each column:\n",
      "Role                                   0\n",
      "Programming language                3850\n",
      "Specialisation                      7219\n",
      "Experience                             0\n",
      "Experience on current job              0\n",
      "Salary/month                           0\n",
      "Изменение.зарплаты.за.12.месяцев       0\n",
      "City                                   0\n",
      "Company size                           0\n",
      "Company type                           0\n",
      "Gender                                 0\n",
      "Age                                    0\n",
      "Education                              0\n",
      "University                          1546\n",
      "Still student                          0\n",
      "English                                0\n",
      "Subject.area                         223\n",
      "Date                                   0\n",
      "User.Agent                             0\n",
      "exp                                    0\n",
      "current_job_exp                        0\n",
      "salary                                 0\n",
      "cls                                 1574\n",
      "dtype: int64\n",
      "\n",
      "                          Role Programming language Specialisation   \\\n",
      "N                                                                     \n",
      "1           Junior QA engineer                  NaN       Manual QA   \n",
      "2           Junior QA engineer                  NaN       Manual QA   \n",
      "3            Software Engineer              C#/.NET             NaN   \n",
      "4            Software Engineer           JavaScript             NaN   \n",
      "5     Senior Software Engineer           JavaScript             NaN   \n",
      "...                        ...                  ...             ...   \n",
      "8700               QA engineer                  NaN       Manual QA   \n",
      "8701                 Marketing                  NaN             NaN   \n",
      "8702  Junior Software Engineer           Ruby/Rails             NaN   \n",
      "8703                 Team lead                  NaN             NaN   \n",
      "8704  Senior Software Engineer                 Java             NaN   \n",
      "\n",
      "            Experience  Experience on current job  Salary/month  \\\n",
      "N                                                                 \n",
      "1                   0.5                       0.5           400   \n",
      "2     loss then 3 month         loss then 3 month           430   \n",
      "3                     4                         1          2500   \n",
      "4                     5                         4          2000   \n",
      "5                  10+                        0.5          4500   \n",
      "...                 ...                       ...           ...   \n",
      "8700                  1         loss then 3 month           700   \n",
      "8701                0.5                       0.5           400   \n",
      "8702                  1                       0.5           800   \n",
      "8703                  6                         4          2600   \n",
      "8704                  7                         2          5000   \n",
      "\n",
      "      Изменение.зарплаты.за.12.месяцев       City              Company size  \\\n",
      "N                                                                             \n",
      "1                                    0  New York         up to 10 employees   \n",
      "2                                  130  New York   more then 1000 employees   \n",
      "3                                  800     Berlin      up to 1000 employees   \n",
      "4                                  400      Odesa       up to 200 employees   \n",
      "5                                  500      Other        up to 10 employees   \n",
      "...                                ...        ...                       ...   \n",
      "8700                               700      Odesa        up to 50 employees   \n",
      "8701                               120     Berlin        up to 50 employees   \n",
      "8702                               500       Rome        up to 10 employees   \n",
      "8703                                 0      Paris  more then 1000 employees   \n",
      "8704                               800      Odesa      up to 1000 employees   \n",
      "\n",
      "     Company type  ...                          University  Still student  \\\n",
      "N                  ...                                                      \n",
      "1     Outsourcing  ...                               Other           True   \n",
      "2     Outsourcing  ...                               Other           True   \n",
      "3     Outsourcing  ...                Princeton University          False   \n",
      "4         product  ...                                 NaN          False   \n",
      "5         product  ...                                 NaN          False   \n",
      "...           ...  ...                                 ...            ...   \n",
      "8700  Outsourcing  ...  University of California, Berkeley          False   \n",
      "8701      product  ...                                 NaN          False   \n",
      "8702  Outstaffing  ...                Princeton University          False   \n",
      "8703  Outsourcing  ...                                 NaN          False   \n",
      "8704      product  ...                                 NaN          False   \n",
      "\n",
      "     English                           Subject.area                 Date  \\\n",
      "N                                                                          \n",
      "1          A1                         iOS,eCommerce  12/06/2017 12:38:08   \n",
      "2          B2                       Web development  12/06/2017 12:42:51   \n",
      "3          B1   Web development,Corporative systems  12/06/2017 13:02:47   \n",
      "4          A1  Desktop Applications,Web development  12/06/2017 13:03:01   \n",
      "5          B1  Desktop Applications,Web development  12/06/2017 13:03:47   \n",
      "...       ...                                   ...                  ...   \n",
      "8700       B1          Android,Desktop Applications  12/07/2017 15:45:24   \n",
      "8701       A1                             eCommerce  12/07/2017 17:00:06   \n",
      "8702       B2   Web development,Corporative systems  12/07/2017 17:32:26   \n",
      "8703       С1                               Finance  12/07/2017 18:14:59   \n",
      "8704       B2                       Web development  12/07/2017 21:28:57   \n",
      "\n",
      "                                             User.Agent   exp current_job_exp  \\\n",
      "N                                                                               \n",
      "1     Mozilla/5.0 (Windows NT 10.0; Win64; x64) Appl...   0.5             0.5   \n",
      "2     Mozilla/5.0 (iPad; CPU OS 10_2_1 like Mac OS X...   0.0             0.0   \n",
      "3     Mozilla/5.0 (Windows NT 10.0; Win64; x64) Appl...   4.0             1.0   \n",
      "4     Mozilla/5.0 (Windows NT 6.1; Win64; x64) Apple...   5.0             4.0   \n",
      "5     Mozilla/5.0 (iPhone; CPU iPhone OS 10_3_2 like...  10.0             0.5   \n",
      "...                                                 ...   ...             ...   \n",
      "8700  Mozilla/5.0 (X11; Ubuntu; Linux x86_64; rv:54....   1.0             0.0   \n",
      "8701  Mozilla/5.0 (Windows NT 10.0; Win64; x64) Appl...   0.5             0.5   \n",
      "8702  Mozilla/5.0 (X11; Linux x86_64) AppleWebKit/53...   1.0             0.5   \n",
      "8703  Mozilla/5.0 (Windows NT 6.1) AppleWebKit/537.3...   6.0             4.0   \n",
      "8704  Mozilla/5.0 (iPad; CPU OS 10_3_2 like Mac OS X...   7.0             2.0   \n",
      "\n",
      "     salary  cls  \n",
      "N                 \n",
      "1       400   QA  \n",
      "2       430   QA  \n",
      "3      2500  DEV  \n",
      "4      2000  DEV  \n",
      "5      4500  DEV  \n",
      "...     ...  ...  \n",
      "8700    700   QA  \n",
      "8701    400  NaN  \n",
      "8702    800  DEV  \n",
      "8703   2600   PM  \n",
      "8704   5000  DEV  \n",
      "\n",
      "[8704 rows x 23 columns]\n"
     ]
    }
   ],
   "execution_count": 519
  },
  {
   "metadata": {
    "ExecuteTime": {
     "end_time": "2024-05-28T22:03:51.204415Z",
     "start_time": "2024-05-28T22:03:51.201153Z"
    }
   },
   "cell_type": "code",
   "source": "# Zdefiniuj nowy rozmiar tabeli za pomocą metody shape.",
   "id": "26c00d5c557e68fc",
   "outputs": [],
   "execution_count": 520
  },
  {
   "metadata": {
    "ExecuteTime": {
     "end_time": "2024-05-28T22:03:51.209516Z",
     "start_time": "2024-05-28T22:03:51.205415Z"
    }
   },
   "cell_type": "code",
   "source": [
    "num_rows, num_columns = poll_table.shape\n",
    "\n",
    "print(f'Rows: {num_rows}')\n",
    "print(f'Columns: {num_columns}')"
   ],
   "id": "50ac502af4462b66",
   "outputs": [
    {
     "name": "stdout",
     "output_type": "stream",
     "text": [
      "Rows: 8704\n",
      "Columns: 23\n"
     ]
    }
   ],
   "execution_count": 521
  },
  {
   "metadata": {
    "ExecuteTime": {
     "end_time": "2024-05-28T22:03:51.213863Z",
     "start_time": "2024-05-28T22:03:51.210516Z"
    }
   },
   "cell_type": "code",
   "source": [
    "# Utwórz nową tabelę python_data, która będzie zawierać tylko wiersze ze specjalistami, którzy podali język programowania Python.\n",
    "# Zdefiniuj rozmiar tabeli python_data za pomocą metody shape."
   ],
   "id": "9b741c4476ea96ca",
   "outputs": [],
   "execution_count": 522
  },
  {
   "metadata": {
    "ExecuteTime": {
     "end_time": "2024-05-28T22:03:51.226638Z",
     "start_time": "2024-05-28T22:03:51.214862Z"
    }
   },
   "cell_type": "code",
   "source": [
    "python_data_table = poll_table[poll_table['Programming language'] == 'Python']\n",
    "python_data_table = python_data_table.dropna(axis=1, how='all')\n",
    "num_rows, num_columns = python_data_table.shape\n",
    "\n",
    "print(f'Python programmer table Rows: {num_rows}')\n",
    "print(f'Python programmer table Columns: {num_columns}\\n')\n",
    "print(f'Python programmer table: \\n{python_data_table}')"
   ],
   "id": "65adb0ca19534e90",
   "outputs": [
    {
     "name": "stdout",
     "output_type": "stream",
     "text": [
      "Python programmer table Rows: 207\n",
      "Python programmer table Columns: 22\n",
      "\n",
      "Python programmer table: \n",
      "                          Role Programming language Experience   \\\n",
      "N                                                                 \n",
      "13           Software Engineer               Python           1   \n",
      "69           Software Engineer               Python         1.5   \n",
      "88    Junior Software Engineer               Python         0.5   \n",
      "115   Junior Software Engineer               Python         1.5   \n",
      "144   Junior Software Engineer               Python           1   \n",
      "...                        ...                  ...         ...   \n",
      "8547         Software Engineer               Python           5   \n",
      "8626         Software Engineer               Python           4   \n",
      "8636  Senior Software Engineer               Python        10+    \n",
      "8674  Junior Software Engineer               Python         0.5   \n",
      "8696         Software Engineer               Python           1   \n",
      "\n",
      "     Experience on current job  Salary/month  \\\n",
      "N                                              \n",
      "13           loss then 3 month           800   \n",
      "69                         0.5           900   \n",
      "88                         0.5           600   \n",
      "115                        0.5           685   \n",
      "144                          1           750   \n",
      "...                        ...           ...   \n",
      "8547                         1          2000   \n",
      "8626                         1          1750   \n",
      "8636         loss then 3 month          4000   \n",
      "8674                       0.5           350   \n",
      "8696                       0.5          1500   \n",
      "\n",
      "      Изменение.зарплаты.за.12.месяцев    City              Company size  \\\n",
      "N                                                                          \n",
      "13                                 200  Berlin        up to 50 employees   \n",
      "69                                 900  Berlin        up to 10 employees   \n",
      "88                                   0  Berlin        up to 10 employees   \n",
      "115                                250  Berlin      up to 1000 employees   \n",
      "144                                250  Berlin        up to 10 employees   \n",
      "...                                ...     ...                       ...   \n",
      "8547                               800    Łódź        up to 50 employees   \n",
      "8626                                 0  Berlin  more then 1000 employees   \n",
      "8636                              1300  Remote        up to 10 employees   \n",
      "8674                                50  Berlin        up to 50 employees   \n",
      "8696                              1000  Berlin        up to 10 employees   \n",
      "\n",
      "     Company type Gender  ...                        University Still student  \\\n",
      "N                         ...                                                   \n",
      "13    Outsourcing   male  ...  National University of Singapore         False   \n",
      "69       start up   male  ...              University of Oxford          True   \n",
      "88    Outsourcing   male  ...  National University of Singapore          True   \n",
      "115   Outsourcing   male  ...  National University of Singapore         False   \n",
      "144   Outsourcing   male  ...  National University of Singapore          True   \n",
      "...           ...    ...  ...                               ...           ...   \n",
      "8547  Outsourcing   male  ...                             Other         False   \n",
      "8626  Outsourcing   male  ...                               NaN         False   \n",
      "8636     start up   male  ...              Princeton University         False   \n",
      "8674  Outsourcing   male  ...  National University of Singapore         False   \n",
      "8696     start up   male  ...              Princeton University         False   \n",
      "\n",
      "     English                Subject.area                 Date  \\\n",
      "N                                                               \n",
      "13         A1      Web development,Other  12/06/2017 13:05:54   \n",
      "69         B2            Web development  12/06/2017 13:11:17   \n",
      "88         B2  Web development,eCommerce  12/06/2017 13:12:25   \n",
      "115        B1                      Other  12/06/2017 13:14:52   \n",
      "144        B2            Web development  12/06/2017 13:19:10   \n",
      "...       ...                        ...                  ...   \n",
      "8547       B1            Web development  10/07/2017 14:11:26   \n",
      "8626       B1            Web development  11/07/2017 16:15:40   \n",
      "8636       B2            Web development  11/07/2017 17:51:36   \n",
      "8674       B1            Web development   12/07/2017 9:37:16   \n",
      "8696       B1          Finance,eCommerce  12/07/2017 14:39:21   \n",
      "\n",
      "                                             User.Agent   exp current_job_exp  \\\n",
      "N                                                                               \n",
      "13    Mozilla/5.0 (Windows NT 6.1; Win64; x64) Apple...   1.0             0.0   \n",
      "69    Mozilla/5.0 (Windows NT 10.0; Win64; x64) Appl...   1.5             0.5   \n",
      "88    Mozilla/5.0 (X11; Linux x86_64) AppleWebKit/53...   0.5             0.5   \n",
      "115   Mozilla/5.0 (X11; Linux x86_64) AppleWebKit/53...   1.5             0.5   \n",
      "144   Mozilla/5.0 (X11; Linux x86_64) AppleWebKit/53...   1.0             1.0   \n",
      "...                                                 ...   ...             ...   \n",
      "8547  Mozilla/5.0 (Macintosh; Intel Mac OS X 10_12_5...   5.0             1.0   \n",
      "8626  Mozilla/5.0 (X11; Ubuntu; Linux x86_64; rv:54....   4.0             1.0   \n",
      "8636  Mozilla/5.0 (X11; Linux x86_64) AppleWebKit/53...  10.0             0.0   \n",
      "8674  Mozilla/5.0 (X11; Ubuntu; Linux x86_64; rv:54....   0.5             0.5   \n",
      "8696  Mozilla/5.0 (X11; Linux x86_64) AppleWebKit/53...   1.0             0.5   \n",
      "\n",
      "      salary  cls  \n",
      "N                  \n",
      "13       800  DEV  \n",
      "69       900  DEV  \n",
      "88       600  DEV  \n",
      "115      685  DEV  \n",
      "144      750  DEV  \n",
      "...      ...  ...  \n",
      "8547    2000  DEV  \n",
      "8626    1750  DEV  \n",
      "8636    4000  DEV  \n",
      "8674     350  DEV  \n",
      "8696    1500  DEV  \n",
      "\n",
      "[207 rows x 22 columns]\n"
     ]
    }
   ],
   "execution_count": 523
  },
  {
   "metadata": {
    "ExecuteTime": {
     "end_time": "2024-05-28T22:03:51.229925Z",
     "start_time": "2024-05-28T22:03:51.227638Z"
    }
   },
   "cell_type": "code",
   "source": "# Używając metody groupby, pogrupuj według kolumny \"Stanowisko\".",
   "id": "b779c619b8678b75",
   "outputs": [],
   "execution_count": 524
  },
  {
   "metadata": {
    "ExecuteTime": {
     "end_time": "2024-05-28T22:03:51.242698Z",
     "start_time": "2024-05-28T22:03:51.230924Z"
    }
   },
   "cell_type": "code",
   "source": [
    "python_data_table.columns = python_data_table.columns.str.strip()\n",
    "python_data_table = python_data_table.sort_values(by=['Role', 'Experience on current job'],\n",
    "                                                  ascending=[True, True]).reset_index(drop=True)\n",
    "\n",
    "print(python_data_table)"
   ],
   "id": "cbb4bfe2523d20f2",
   "outputs": [
    {
     "name": "stdout",
     "output_type": "stream",
     "text": [
      "                         Role Programming language Experience  \\\n",
      "0    Junior Software Engineer               Python       0.25   \n",
      "1    Junior Software Engineer               Python          1   \n",
      "2    Junior Software Engineer               Python          1   \n",
      "3    Junior Software Engineer               Python        0.5   \n",
      "4    Junior Software Engineer               Python       0.25   \n",
      "..                        ...                  ...        ...   \n",
      "202            Technical Lead               Python          2   \n",
      "203            Technical Lead               Python          5   \n",
      "204            Technical Lead               Python          3   \n",
      "205            Technical Lead               Python       10+    \n",
      "206            Technical Lead               Python          7   \n",
      "\n",
      "    Experience on current job  Salary/month  Изменение.зарплаты.за.12.месяцев  \\\n",
      "0                        0.25           800                                 0   \n",
      "1                        0.25           800                               300   \n",
      "2                        0.25           300                                 0   \n",
      "3                        0.25           500                               200   \n",
      "4                        0.25           400                                 0   \n",
      "..                        ...           ...                               ...   \n",
      "202                         2          3300                               800   \n",
      "203                         3          2900                               180   \n",
      "204                         3          3700                                 0   \n",
      "205                         7          2700                                 0   \n",
      "206                         7          1900                               150   \n",
      "\n",
      "          City         Company size Company type Gender  ...  \\\n",
      "0       Berlin   up to 50 employees      product   male  ...   \n",
      "1       Remote   up to 50 employees     start up   male  ...   \n",
      "2         Rome   up to 50 employees     start up   male  ...   \n",
      "3         Rome   up to 10 employees  Outsourcing   male  ...   \n",
      "4         Rome  up to 200 employees  Outsourcing   male  ...   \n",
      "..         ...                  ...          ...    ...  ...   \n",
      "202  New York   up to 200 employees  Outsourcing   male  ...   \n",
      "203      Paris   up to 10 employees  Outstaffing   male  ...   \n",
      "204      Odesa   up to 10 employees      product   male  ...   \n",
      "205  New York    up to 10 employees  Outstaffing   male  ...   \n",
      "206       Rome  up to 200 employees      product   male  ...   \n",
      "\n",
      "                             University Still student English  \\\n",
      "0                   Stanford University         False      С1   \n",
      "1                                 Other         False      A1   \n",
      "2                  University of Oxford          True      B1   \n",
      "3                                 Other          True      B1   \n",
      "4                  University of Oxford          True      B1   \n",
      "..                                  ...           ...     ...   \n",
      "202                Princeton University         False      B1   \n",
      "203                                 NaN         False      B2   \n",
      "204  University of California, Berkeley         False      B2   \n",
      "205                Princeton University         False      B2   \n",
      "206                University of Oxford         False      B2   \n",
      "\n",
      "                            Subject.area                 Date  \\\n",
      "0                     Telecommunications  12/06/2017 13:22:31   \n",
      "1                        Web development  12/06/2017 16:33:42   \n",
      "2                          Finance,Other  12/06/2017 17:45:49   \n",
      "3                        Web development  12/06/2017 22:18:34   \n",
      "4                        Web development  13/06/2017 01:53:20   \n",
      "..                                   ...                  ...   \n",
      "202                      Web development  15/06/2017 11:16:57   \n",
      "203                      Web development  16/06/2017 21:46:04   \n",
      "204                  Corporative systems  21/06/2017 13:55:30   \n",
      "205                      Web development  20/06/2017 16:31:42   \n",
      "206  Web development,Corporative systems  08/07/2017 18:46:55   \n",
      "\n",
      "                                            User.Agent    exp current_job_exp  \\\n",
      "0    Mozilla/5.0 (X11; Linux x86_64) AppleWebKit/53...   0.25            0.25   \n",
      "1    Mozilla/5.0 (X11; Linux x86_64) AppleWebKit/53...   1.00            0.25   \n",
      "2    Mozilla/5.0 (Windows NT 6.1; Win64; x64) Apple...   1.00            0.25   \n",
      "3    Mozilla/5.0 (Windows NT 10.0; Win64; x64) Appl...   0.50            0.25   \n",
      "4    Mozilla/5.0 (Windows NT 10.0; Win64; x64) Appl...   0.25            0.25   \n",
      "..                                                 ...    ...             ...   \n",
      "202  Mozilla/5.0 (X11; Ubuntu; Linux x86_64; rv:53....   2.00            2.00   \n",
      "203  Mozilla/5.0 (Macintosh; Intel Mac OS X 10_10_2...   5.00            3.00   \n",
      "204  Mozilla/5.0 (X11; Ubuntu; Linux x86_64; rv:54....   3.00            3.00   \n",
      "205  Mozilla/5.0 (X11; Linux x86_64) AppleWebKit/53...  10.00            7.00   \n",
      "206  Mozilla/5.0 (X11; Linux x86_64) AppleWebKit/53...   7.00            7.00   \n",
      "\n",
      "     salary   cls  \n",
      "0       800   DEV  \n",
      "1       800   DEV  \n",
      "2       300   DEV  \n",
      "3       500   DEV  \n",
      "4       400   DEV  \n",
      "..      ...   ...  \n",
      "202    3300  SDEV  \n",
      "203    2900  SDEV  \n",
      "204    3700  SDEV  \n",
      "205    2700  SDEV  \n",
      "206    1900  SDEV  \n",
      "\n",
      "[207 rows x 22 columns]\n"
     ]
    }
   ],
   "execution_count": 525
  },
  {
   "metadata": {
    "ExecuteTime": {
     "end_time": "2024-05-28T22:03:51.246108Z",
     "start_time": "2024-05-28T22:03:51.243698Z"
    }
   },
   "cell_type": "code",
   "source": "# Utwórz nowy DataFrame, w którym dla danych pogrupowanych według kolumny \"Stanowisko\" wykonaj agregację danych za pomocą metody agg i znajdź minimalne i maksymalne wartości w kolumnie \"Wynagrodzenie.za.miesiąc\"",
   "id": "78d5a7c1d89473ef",
   "outputs": [],
   "execution_count": 526
  },
  {
   "metadata": {
    "ExecuteTime": {
     "end_time": "2024-05-28T22:03:51.253460Z",
     "start_time": "2024-05-28T22:03:51.247107Z"
    }
   },
   "cell_type": "code",
   "source": [
    "aggregated_data = python_data_table.groupby('Role')['Salary/month'].agg(max_salary='max', min_salary='min')\n",
    "\n",
    "print(aggregated_data)"
   ],
   "id": "eef25394a5a42e0",
   "outputs": [
    {
     "name": "stdout",
     "output_type": "stream",
     "text": [
      "                          max_salary  min_salary\n",
      "Role                                            \n",
      "Junior Software Engineer        1250         100\n",
      "Senior Software Engineer        9200        1300\n",
      "Software Engineer               5400         500\n",
      "System Architect                5000        3000\n",
      "Technical Lead                  6200        1425\n"
     ]
    }
   ],
   "execution_count": 527
  },
  {
   "metadata": {
    "ExecuteTime": {
     "end_time": "2024-05-28T22:03:51.257847Z",
     "start_time": "2024-05-28T22:03:51.254461Z"
    }
   },
   "cell_type": "code",
   "source": "# Utwórz funkcję fill_avg_salary, która zwróci średnią miesięczną pensję. Użyj jej w metodzie apply i utwórz nową kolumnę \"avg\".",
   "id": "5b3fbe198a1968ff",
   "outputs": [],
   "execution_count": 528
  },
  {
   "metadata": {
    "ExecuteTime": {
     "end_time": "2024-05-28T22:03:51.271149Z",
     "start_time": "2024-05-28T22:03:51.258847Z"
    }
   },
   "cell_type": "code",
   "source": [
    "python_data_table['avg'] = python_data_table.groupby('Role')['Salary/month'].transform('mean').round(2)\n",
    "\n",
    "print(python_data_table)"
   ],
   "id": "e0559eba10a81974",
   "outputs": [
    {
     "name": "stdout",
     "output_type": "stream",
     "text": [
      "                         Role Programming language Experience  \\\n",
      "0    Junior Software Engineer               Python       0.25   \n",
      "1    Junior Software Engineer               Python          1   \n",
      "2    Junior Software Engineer               Python          1   \n",
      "3    Junior Software Engineer               Python        0.5   \n",
      "4    Junior Software Engineer               Python       0.25   \n",
      "..                        ...                  ...        ...   \n",
      "202            Technical Lead               Python          2   \n",
      "203            Technical Lead               Python          5   \n",
      "204            Technical Lead               Python          3   \n",
      "205            Technical Lead               Python       10+    \n",
      "206            Technical Lead               Python          7   \n",
      "\n",
      "    Experience on current job  Salary/month  Изменение.зарплаты.за.12.месяцев  \\\n",
      "0                        0.25           800                                 0   \n",
      "1                        0.25           800                               300   \n",
      "2                        0.25           300                                 0   \n",
      "3                        0.25           500                               200   \n",
      "4                        0.25           400                                 0   \n",
      "..                        ...           ...                               ...   \n",
      "202                         2          3300                               800   \n",
      "203                         3          2900                               180   \n",
      "204                         3          3700                                 0   \n",
      "205                         7          2700                                 0   \n",
      "206                         7          1900                               150   \n",
      "\n",
      "          City         Company size Company type Gender  ...  Still student  \\\n",
      "0       Berlin   up to 50 employees      product   male  ...          False   \n",
      "1       Remote   up to 50 employees     start up   male  ...          False   \n",
      "2         Rome   up to 50 employees     start up   male  ...           True   \n",
      "3         Rome   up to 10 employees  Outsourcing   male  ...           True   \n",
      "4         Rome  up to 200 employees  Outsourcing   male  ...           True   \n",
      "..         ...                  ...          ...    ...  ...            ...   \n",
      "202  New York   up to 200 employees  Outsourcing   male  ...          False   \n",
      "203      Paris   up to 10 employees  Outstaffing   male  ...          False   \n",
      "204      Odesa   up to 10 employees      product   male  ...          False   \n",
      "205  New York    up to 10 employees  Outstaffing   male  ...          False   \n",
      "206       Rome  up to 200 employees      product   male  ...          False   \n",
      "\n",
      "    English                         Subject.area                 Date  \\\n",
      "0        С1                   Telecommunications  12/06/2017 13:22:31   \n",
      "1        A1                      Web development  12/06/2017 16:33:42   \n",
      "2        B1                        Finance,Other  12/06/2017 17:45:49   \n",
      "3        B1                      Web development  12/06/2017 22:18:34   \n",
      "4        B1                      Web development  13/06/2017 01:53:20   \n",
      "..      ...                                  ...                  ...   \n",
      "202      B1                      Web development  15/06/2017 11:16:57   \n",
      "203      B2                      Web development  16/06/2017 21:46:04   \n",
      "204      B2                  Corporative systems  21/06/2017 13:55:30   \n",
      "205      B2                      Web development  20/06/2017 16:31:42   \n",
      "206      B2  Web development,Corporative systems  08/07/2017 18:46:55   \n",
      "\n",
      "                                            User.Agent    exp current_job_exp  \\\n",
      "0    Mozilla/5.0 (X11; Linux x86_64) AppleWebKit/53...   0.25            0.25   \n",
      "1    Mozilla/5.0 (X11; Linux x86_64) AppleWebKit/53...   1.00            0.25   \n",
      "2    Mozilla/5.0 (Windows NT 6.1; Win64; x64) Apple...   1.00            0.25   \n",
      "3    Mozilla/5.0 (Windows NT 10.0; Win64; x64) Appl...   0.50            0.25   \n",
      "4    Mozilla/5.0 (Windows NT 10.0; Win64; x64) Appl...   0.25            0.25   \n",
      "..                                                 ...    ...             ...   \n",
      "202  Mozilla/5.0 (X11; Ubuntu; Linux x86_64; rv:53....   2.00            2.00   \n",
      "203  Mozilla/5.0 (Macintosh; Intel Mac OS X 10_10_2...   5.00            3.00   \n",
      "204  Mozilla/5.0 (X11; Ubuntu; Linux x86_64; rv:54....   3.00            3.00   \n",
      "205  Mozilla/5.0 (X11; Linux x86_64) AppleWebKit/53...  10.00            7.00   \n",
      "206  Mozilla/5.0 (X11; Linux x86_64) AppleWebKit/53...   7.00            7.00   \n",
      "\n",
      "    salary   cls      avg  \n",
      "0      800   DEV   560.84  \n",
      "1      800   DEV   560.84  \n",
      "2      300   DEV   560.84  \n",
      "3      500   DEV   560.84  \n",
      "4      400   DEV   560.84  \n",
      "..     ...   ...      ...  \n",
      "202   3300  SDEV  3165.91  \n",
      "203   2900  SDEV  3165.91  \n",
      "204   3700  SDEV  3165.91  \n",
      "205   2700  SDEV  3165.91  \n",
      "206   1900  SDEV  3165.91  \n",
      "\n",
      "[207 rows x 23 columns]\n"
     ]
    }
   ],
   "execution_count": 529
  },
  {
   "metadata": {
    "ExecuteTime": {
     "end_time": "2024-05-28T22:03:51.274563Z",
     "start_time": "2024-05-28T22:03:51.272176Z"
    }
   },
   "cell_type": "code",
   "source": "# Utwórz statystyki opisowe za pomocą metody describe dla nowej kolumny.",
   "id": "3d6c96d2b398b610",
   "outputs": [],
   "execution_count": 530
  },
  {
   "metadata": {
    "ExecuteTime": {
     "end_time": "2024-05-28T22:03:51.281078Z",
     "start_time": "2024-05-28T22:03:51.275563Z"
    }
   },
   "cell_type": "code",
   "source": [
    "description = python_data_table['avg'].describe().round(2)\n",
    "\n",
    "print(description)"
   ],
   "id": "619b29f2a2a33481",
   "outputs": [
    {
     "name": "stdout",
     "output_type": "stream",
     "text": [
      "count     207.00\n",
      "mean     1753.94\n",
      "std       996.56\n",
      "min       560.84\n",
      "25%       560.84\n",
      "50%      1799.07\n",
      "75%      1799.07\n",
      "max      4000.00\n",
      "Name: avg, dtype: float64\n"
     ]
    }
   ],
   "execution_count": 531
  },
  {
   "metadata": {
    "ExecuteTime": {
     "end_time": "2024-05-28T22:03:51.286588Z",
     "start_time": "2024-05-28T22:03:51.284072Z"
    }
   },
   "cell_type": "code",
   "source": "# Zapisz wynikową tabelę w pliku CSV.",
   "id": "51840e41b0870b23",
   "outputs": [],
   "execution_count": 532
  },
  {
   "metadata": {
    "ExecuteTime": {
     "end_time": "2024-05-28T22:03:51.294882Z",
     "start_time": "2024-05-28T22:03:51.287587Z"
    }
   },
   "cell_type": "code",
   "source": [
    "output_file_name = 'Python_Dev_data.csv'\n",
    "python_data_table.to_csv(output_file_name, index=False, encoding='utf-8-sig')\n",
    "\n",
    "print(f'File saved in: {os.getcwd()}')\n",
    "print(f'The table is saved in a file: {output_file_name}')"
   ],
   "id": "afa1ff32fa08c4d",
   "outputs": [
    {
     "name": "stdout",
     "output_type": "stream",
     "text": [
      "File saved in: D:\\MyProjects\\GoIT_DS\\Homework_02\n",
      "The table is saved in a file: Python_Dev_data.csv\n"
     ]
    }
   ],
   "execution_count": 533
  },
  {
   "metadata": {
    "ExecuteTime": {
     "end_time": "2024-05-28T22:03:51.475944Z",
     "start_time": "2024-05-28T22:03:51.295882Z"
    }
   },
   "cell_type": "code",
   "source": [
    "avg_salary_exp = python_data_table.groupby('Experience')['Salary/month'].mean().dropna()\n",
    "\n",
    "plt.figure(figsize=(10, 6))\n",
    "plt.plot(avg_salary_exp.index, avg_salary_exp.values, marker='o', linestyle='-', color='b')\n",
    "plt.title('Średnie wynagrodzenie w zależności od doświadczenia')\n",
    "plt.xlabel('Doświadczenie (lata)')\n",
    "plt.ylabel('Średnie wynagrodzenie (miesięcznie)')\n",
    "plt.grid(True)\n",
    "plt.show()"
   ],
   "id": "de384d8c7017e055",
   "outputs": [
    {
     "data": {
      "text/plain": [
       "<Figure size 1000x600 with 1 Axes>"
      ],
      "image/png": "[encoded data removed]"
     },
     "metadata": {},
     "output_type": "display_data"
    }
   ],
   "execution_count": 534
  },
  {
   "metadata": {
    "ExecuteTime": {
     "end_time": "2024-05-28T22:03:51.659715Z",
     "start_time": "2024-05-28T22:03:51.477954Z"
    }
   },
   "cell_type": "code",
   "source": [
    "avg_salary_role = python_data_table.groupby('Role')['Salary/month'].mean().dropna()\n",
    "\n",
    "plt.figure(figsize=(10, 6))\n",
    "sns.barplot(x=avg_salary_role.index, y=avg_salary_role.values)\n",
    "plt.title('Średnie wynagrodzenie w zależności od doświadczenia')\n",
    "plt.xlabel('Rola')\n",
    "plt.ylabel('Średnie wynagrodzenie (miesięcznie)')\n",
    "plt.xticks(rotation=45)\n",
    "plt.show()"
   ],
   "id": "e15ead911a9ab97e",
   "outputs": [
    {
     "data": {
      "text/plain": [
       "<Figure size 1000x600 with 1 Axes>"
      ],
      "image/png": "[encoded data removed]"
     },
     "metadata": {},
     "output_type": "display_data"
    }
   ],
   "execution_count": 535
  },
  {
   "metadata": {
    "ExecuteTime": {
     "end_time": "2024-05-28T22:03:51.740791Z",
     "start_time": "2024-05-28T22:03:51.660715Z"
    }
   },
   "cell_type": "code",
   "source": [
    "poll_table.columns = poll_table.columns.str.strip()\n",
    "spec_count = poll_table['Specialisation'].value_counts()\n",
    "\n",
    "plt.figure(figsize=(8, 8))\n",
    "plt.pie(spec_count, labels=spec_count.index, autopct='%1.1f%%', startangle=140, colors=sns.color_palette('pastel'))\n",
    "plt.title('Podział specjalizacji')\n",
    "plt.show()"
   ],
   "id": "e35a47ed9ef06ff5",
   "outputs": [
    {
     "data": {
      "text/plain": [
       "<Figure size 800x800 with 1 Axes>"
      ],
      "image/png": "[encoded data removed]"
     },
     "metadata": {},
     "output_type": "display_data"
    }
   ],
   "execution_count": 536
  }
 ],
 "metadata": {
  "kernelspec": {
   "display_name": "Python 3 (ipykernel)",
   "language": "python",
   "name": "python3"
  },
  "language_info": {
   "codemirror_mode": {
    "name": "ipython",
    "version": 3
   },
   "file_extension": ".py",
   "mimetype": "text/x-python",
   "name": "python",
   "nbconvert_exporter": "python",
   "pygments_lexer": "ipython3",
   "version": "3.12.1"
  }
 },
 "nbformat": 4,
 "nbformat_minor": 5
}
