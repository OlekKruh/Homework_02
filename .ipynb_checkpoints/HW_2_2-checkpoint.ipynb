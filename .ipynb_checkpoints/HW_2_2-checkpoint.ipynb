{
 "cells": [
  {
   "cell_type": "code",
   "execution_count": 1,
   "id": "45a2c33d-c67f-493c-a65a-660af30aa781",
   "metadata": {},
   "outputs": [],
   "source": [
    "import numpy as np\n",
    "import pandas as pd\n",
    "import matplotlib.pyplot as plt"
   ]
  },
  {
   "cell_type": "code",
   "execution_count": 2,
   "id": "fc439ed6-948c-4af4-969c-e9650348eee5",
   "metadata": {},
   "outputs": [],
   "source": [
    "# Odczytaj plik 2017_jun_final.csv przy użyciu metody read_csv."
   ]
  },
  {
   "cell_type": "code",
   "execution_count": 3,
   "id": "fce20d35-0cf1-439d-b08a-bd26e4c70a59",
   "metadata": {},
   "outputs": [],
   "source": [
    "url_gd_poll = 'https://drive.google.com/uc?export=download&id=1bQvtiXzLnoZWNH2Qi9-rHUuxz0hELf_1'\n",
    "poll_table = pd.read_csv(url_gd_poll)"
   ]
  },
  {
   "cell_type": "code",
   "execution_count": 4,
   "id": "eb873789-a27c-44d4-8d4d-96908b39755b",
   "metadata": {},
   "outputs": [],
   "source": [
    "# Odczytaj tabelę wynikową przy użyciu metody head."
   ]
  },
  {
   "cell_type": "code",
   "execution_count": 5,
   "id": "4433693d-b392-4abb-8564-134276645503",
   "metadata": {
    "scrolled": true
   },
   "outputs": [
    {
     "name": "stdout",
     "output_type": "stream",
     "text": [
      "Poll Table:\n",
      "   N                      Role Programming language Specialisation   \\\n",
      "0  1        Junior QA engineer                  NaN       Manual QA   \n",
      "1  2        Junior QA engineer                  NaN       Manual QA   \n",
      "2  3         Software Engineer              C#/.NET             NaN   \n",
      "3  4         Software Engineer           JavaScript             NaN   \n",
      "4  5  Senior Software Engineer           JavaScript             NaN   \n",
      "\n",
      "         Experience  Experience on current job  Salary/month  \\\n",
      "0                0.5                       0.5           400   \n",
      "1  loss then 3 month         loss then 3 month           430   \n",
      "2                  4                         1          2500   \n",
      "3                  5                         4          2000   \n",
      "4               10+                        0.5          4500   \n",
      "\n",
      "   Изменение.зарплаты.за.12.месяцев       City              Company size  ...  \\\n",
      "0                                 0  New York         up to 10 employees  ...   \n",
      "1                               130  New York   more then 1000 employees  ...   \n",
      "2                               800     Berlin      up to 1000 employees  ...   \n",
      "3                               400      Odesa       up to 200 employees  ...   \n",
      "4                               500      Other        up to 10 employees  ...   \n",
      "\n",
      "  Still student English                           Subject.area  \\\n",
      "0          True       A1                         iOS,eCommerce   \n",
      "1          True       B2                       Web development   \n",
      "2         False       B1   Web development,Corporative systems   \n",
      "3         False       A1  Desktop Applications,Web development   \n",
      "4         False       B1  Desktop Applications,Web development   \n",
      "\n",
      "                  Date                                         User.Agent  \\\n",
      "0  12/06/2017 12:38:08  Mozilla/5.0 (Windows NT 10.0; Win64; x64) Appl...   \n",
      "1  12/06/2017 12:42:51  Mozilla/5.0 (iPad; CPU OS 10_2_1 like Mac OS X...   \n",
      "2  12/06/2017 13:02:47  Mozilla/5.0 (Windows NT 10.0; Win64; x64) Appl...   \n",
      "3  12/06/2017 13:03:01  Mozilla/5.0 (Windows NT 6.1; Win64; x64) Apple...   \n",
      "4  12/06/2017 13:03:47  Mozilla/5.0 (iPhone; CPU iPhone OS 10_3_2 like...   \n",
      "\n",
      "    exp current_job_exp salary Валюта  cls  \n",
      "0   0.5             0.5    400    NaN   QA  \n",
      "1   0.0             0.0    430    NaN   QA  \n",
      "2   4.0             1.0   2500    NaN  DEV  \n",
      "3   5.0             4.0   2000    NaN  DEV  \n",
      "4  10.0             0.5   4500    NaN  DEV  \n",
      "\n",
      "[5 rows x 25 columns]\n"
     ]
    }
   ],
   "source": [
    "print(f'Poll Table:\\n{poll_table.head()}')"
   ]
  },
  {
   "cell_type": "code",
   "execution_count": 6,
   "id": "8e8944e1-234d-4504-93c1-4d7a09a6503d",
   "metadata": {},
   "outputs": [],
   "source": [
    "# Zdefiniuj rozmiar tabeli przy użyciu metody shape."
   ]
  },
  {
   "cell_type": "code",
   "execution_count": 7,
   "id": "71435c1a-33d8-40c3-b283-74c77c0b2218",
   "metadata": {},
   "outputs": [
    {
     "name": "stdout",
     "output_type": "stream",
     "text": [
      "Rows: 8704\n",
      "Columns: 25\n"
     ]
    }
   ],
   "source": [
    "num_rows, num_columns = poll_table.shape\n",
    "print(f'Rows: {num_rows}')\n",
    "print(f'Columns: {num_columns}')"
   ]
  },
  {
   "cell_type": "code",
   "execution_count": 8,
   "id": "6701ecf7-1671-405a-8c34-546ba7849fc5",
   "metadata": {},
   "outputs": [],
   "source": [
    "# Zdefiniuj typy wszystkich kolumn za pomocą metody dataframe.dtypes."
   ]
  },
  {
   "cell_type": "code",
   "execution_count": 9,
   "id": "1af0506f-0943-4e00-8b34-e287098b1304",
   "metadata": {},
   "outputs": [
    {
     "name": "stdout",
     "output_type": "stream",
     "text": [
      "Data types:\n",
      "N                                     int64\n",
      "Role                                 object\n",
      "Programming language                 object\n",
      "Specialisation                       object\n",
      "Experience                           object\n",
      "Experience on current job            object\n",
      "Salary/month                          int64\n",
      "Изменение.зарплаты.за.12.месяцев      int64\n",
      "City                                 object\n",
      "Company size                         object\n",
      "Company type                         object\n",
      "Gender                               object\n",
      "Age                                   int64\n",
      "Education                            object\n",
      "University                           object\n",
      "Still student                          bool\n",
      "English                              object\n",
      "Subject.area                         object\n",
      "Date                                 object\n",
      "User.Agent                           object\n",
      "exp                                 float64\n",
      "current_job_exp                     float64\n",
      "salary                                int64\n",
      "Валюта                               object\n",
      "cls                                  object\n",
      "dtype: object\n",
      "\n"
     ]
    }
   ],
   "source": [
    "print(f'Data types:\\n{poll_table.dtypes}\\n')"
   ]
  },
  {
   "cell_type": "code",
   "execution_count": null,
   "id": "c866fe93-ca46-4920-894d-591c91fdf3ee",
   "metadata": {},
   "outputs": [],
   "source": [
    "# Oblicz proporcję spacji w każdej kolumnie (użyj metod isnull i sum)."
   ]
  },
  {
   "cell_type": "code",
   "execution_count": null,
   "id": "3446376a-889d-42de-a325-5e52c2b94768",
   "metadata": {},
   "outputs": [],
   "source": []
  }
 ],
 "metadata": {
  "kernelspec": {
   "display_name": "Python 3 (ipykernel)",
   "language": "python",
   "name": "python3"
  },
  "language_info": {
   "codemirror_mode": {
    "name": "ipython",
    "version": 3
   },
   "file_extension": ".py",
   "mimetype": "text/x-python",
   "name": "python",
   "nbconvert_exporter": "python",
   "pygments_lexer": "ipython3",
   "version": "3.12.1"
  }
 },
 "nbformat": 4,
 "nbformat_minor": 5
}
